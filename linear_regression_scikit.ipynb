{
  "nbformat": 4,
  "nbformat_minor": 0,
  "metadata": {
    "colab": {
      "name": "linear_regression_scikit.ipynb",
      "provenance": []
    },
    "kernelspec": {
      "name": "python3",
      "display_name": "Python 3"
    },
    "language_info": {
      "name": "python"
    }
  },
  "cells": [
    {
      "cell_type": "code",
      "metadata": {
        "id": "7paQ6QHNmqs2"
      },
      "source": [
        "import pandas as pd\n",
        "import numpy as np\n",
        "import matplotlib.pyplot as plt\n",
        "import sklearn.linear_model as lm"
      ],
      "execution_count": 5,
      "outputs": []
    },
    {
      "cell_type": "code",
      "metadata": {
        "id": "POKvmBownrAD"
      },
      "source": [
        "#loading data\n",
        "test_data=pd.read_csv(\"test_linear_data.csv\").dropna()\n",
        "train_data=pd.read_csv(\"train_linear_data.csv\").dropna()\n",
        "\n",
        "test_x_data=np.array(test_data['x']).reshape(300,1)\n",
        "test_y_data=np.array(test_data['y']).reshape(300,1)\n",
        "\n",
        "train_x_data=np.array(train_data['x']).reshape(699,1)\n",
        "train_y_data=np.array(train_data['y']).reshape(699,1)"
      ],
      "execution_count": 26,
      "outputs": []
    },
    {
      "cell_type": "code",
      "metadata": {
        "colab": {
          "base_uri": "https://localhost:8080/"
        },
        "id": "7Q3OcS5Wn3rg",
        "outputId": "d9eea346-b02a-4d84-d185-62bda73d1cb3"
      },
      "source": [
        "#training data\n",
        "linear_regressor=lm.LinearRegression()\n",
        "linear_regressor.fit(train_x_data,train_y_data)"
      ],
      "execution_count": 27,
      "outputs": [
        {
          "output_type": "execute_result",
          "data": {
            "text/plain": [
              "LinearRegression(copy_X=True, fit_intercept=True, n_jobs=None, normalize=False)"
            ]
          },
          "metadata": {},
          "execution_count": 27
        }
      ]
    },
    {
      "cell_type": "code",
      "metadata": {
        "colab": {
          "base_uri": "https://localhost:8080/",
          "height": 282
        },
        "id": "o6GO8xOwp6NU",
        "outputId": "b34f1e35-231e-4417-bec8-a7cc44de5dc6"
      },
      "source": [
        "#testing data\n",
        "predicted=linear_regressor.predict(test_x_data)\n",
        "plt.figure()\n",
        "plt.plot(test_x_data,test_y_data,'+',label=\"Test\")\n",
        "plt.plot(test_x_data,predicted,'*',label=\"Predicted\")\n",
        "plt.show()\n",
        "accuracy=np.mean(predicted)*100/np.mean(test_y_data)\n",
        "print(accuracy)"
      ],
      "execution_count": 30,
      "outputs": [
        {
          "output_type": "display_data",
          "data": {
            "image/png": "[encoded data removed]",
            "text/plain": [
              "<Figure size 432x288 with 1 Axes>"
            ]
          },
          "metadata": {
            "needs_background": "light"
          }
        },
        {
          "output_type": "stream",
          "name": "stdout",
          "text": [
            "99.33167532352705\n"
          ]
        }
      ]
    }
  ]
}