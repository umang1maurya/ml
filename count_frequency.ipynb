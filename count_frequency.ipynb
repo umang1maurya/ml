{
  "nbformat": 4,
  "nbformat_minor": 0,
  "metadata": {
    "colab": {
      "name": "count_frequency.ipynb",
      "provenance": []
    },
    "kernelspec": {
      "name": "python3",
      "display_name": "Python 3"
    },
    "language_info": {
      "name": "python"
    }
  },
  "cells": [
    {
      "cell_type": "code",
      "metadata": {
        "id": "_3XYorwV-j92"
      },
      "source": [
        "#import \n",
        "import urllib.request"
      ],
      "execution_count": null,
      "outputs": []
    },
    {
      "cell_type": "code",
      "metadata": {
        "id": "DRoyjOH8-qF_"
      },
      "source": [
        "#String data.\n",
        "url=\"http://uietkanpur.com\"\n",
        "html_data=urllib.request.urlopen(url).read().decode('utf-8')\n",
        "\n",
        "#data\n",
        "list_word=[]\n",
        "freq_word=[]"
      ],
      "execution_count": null,
      "outputs": []
    },
    {
      "cell_type": "code",
      "metadata": {
        "id": "bcfrxoSf-0d_"
      },
      "source": [
        "#check with older string.if not found add it in word_list otherwise increment the freq.\n",
        "def match_string(value):\n",
        "    for i in range(len(list_word)):\n",
        "        if list_word[i]==value :\n",
        "            freq_word[i]+=1\n",
        "            return \n",
        "    list_word.append(value)\n",
        "    freq_word.append(1)"
      ],
      "execution_count": null,
      "outputs": []
    },
    {
      "cell_type": "code",
      "metadata": {
        "id": "8jLqHR9H-7L8"
      },
      "source": [
        "def match_seperator(value):\n",
        "    if((value<='Z' and value>='A') or (value <='z' and value>='a') or (value<='9' and value>='0') or value=='@'):\n",
        "        return False\n",
        "    return True"
      ],
      "execution_count": null,
      "outputs": []
    },
    {
      "cell_type": "code",
      "metadata": {
        "id": "D9xCDZi1--Kg"
      },
      "source": [
        "def differtiate_word():\n",
        "    last=\"\"\n",
        "    keep=False\n",
        "    for x in html_data:\n",
        "        if(keep):\n",
        "            if x=='>': \n",
        "                keep= False\n",
        "        else:\n",
        "            if x=='<':\n",
        "                keep=True \n",
        "            else:\n",
        "                if match_seperator(x):\n",
        "                    if len(last)>1 :\n",
        "                        match_string(last)\n",
        "                    last=\"\"\n",
        "                else:\n",
        "                    last+=x\n",
        "    if(len(last)):\n",
        "        match_string(last)"
      ],
      "execution_count": null,
      "outputs": []
    },
    {
      "cell_type": "code",
      "metadata": {
        "id": "g0vE-imT_BdG"
      },
      "source": [
        "#print output \n",
        "def print_output():\n",
        "    print(\"Total Different Text Founds : \",len(list_word))\n",
        "    for i in range(len(list_word)):\n",
        "        space=\"\"\n",
        "        for j in range(len(list_word[i]),25):\n",
        "            space+=\" \"\n",
        "        print(list_word[i],space,freq_word[i])\n"
      ],
      "execution_count": null,
      "outputs": []
    },
    {
      "cell_type": "code",
      "metadata": {
        "id": "BWMSsU9n_E9A"
      },
      "source": [
        "#run code\n",
        "differtiate_word()\n",
        "print_output()"
      ],
      "execution_count": null,
      "outputs": []
    }
  ]
}